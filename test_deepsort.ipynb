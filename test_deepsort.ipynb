{
 "cells": [
  {
   "cell_type": "code",
   "execution_count": 1,
   "metadata": {},
   "outputs": [],
   "source": [
    "# %pip install torch torchvision opencv-python pillow numpy matplotlib deep-sort-realtime"
   ]
  },
  {
   "cell_type": "code",
   "execution_count": 2,
   "metadata": {},
   "outputs": [],
   "source": [
    "import cv2\n",
    "import torch\n",
    "import torchvision\n",
    "import numpy as np\n",
    "from PIL import Image\n",
    "import torchvision.transforms as T\n",
    "from deep_sort_realtime.deepsort_tracker import DeepSort\n",
    "import os"
   ]
  },
  {
   "cell_type": "code",
   "execution_count": 3,
   "metadata": {},
   "outputs": [
    {
     "name": "stderr",
     "output_type": "stream",
     "text": [
      "c:\\Users\\vujic\\AppData\\Local\\Programs\\Python\\Python312\\Lib\\site-packages\\deep_sort_realtime\\embedder\\embedder_pytorch.py:53: FutureWarning: You are using `torch.load` with `weights_only=False` (the current default value), which uses the default pickle module implicitly. It is possible to construct malicious pickle data which will execute arbitrary code during unpickling (See https://github.com/pytorch/pytorch/blob/main/SECURITY.md#untrusted-models for more details). In a future release, the default value for `weights_only` will be flipped to `True`. This limits the functions that could be executed during unpickling. Arbitrary objects will no longer be allowed to be loaded via this mode unless they are explicitly allowlisted by the user via `torch.serialization.add_safe_globals`. We recommend you start setting `weights_only=True` for any use case where you don't have full control of the loaded file. Please open an issue on GitHub for any issues related to this experimental feature.\n",
      "  self.model.load_state_dict(torch.load(model_wts_path))\n"
     ]
    }
   ],
   "source": [
    "VIDEO_NAME = 'DSC_2411.MOV'\n",
    "video_path = fr\"tracking_rukomet\\{VIDEO_NAME}\"\n",
    "output_txt_path = fr\"tracking_rukomet\\predictions\\{VIDEO_NAME.replace('.MOV', '_deepsort.txt')}\"\n",
    "\n",
    "# Load Faster R-CNN model\n",
    "model = torchvision.models.detection.fasterrcnn_resnet50_fpn(weights=\"DEFAULT\")\n",
    "model.eval()\n",
    "\n",
    "# Initialize DeepSORT tracker\n",
    "tracker = DeepSort(max_age=30, n_init=3, nms_max_overlap=1.0)\n",
    "\n",
    "# Use raw string (r\"\") or replace \\ with /\n",
    "cap = cv2.VideoCapture(video_path)\n",
    "\n",
    "# Open file for writing bounding boxes\n",
    "os.makedirs(os.path.dirname(output_txt_path), exist_ok=True)"
   ]
  },
  {
   "cell_type": "code",
   "execution_count": 4,
   "metadata": {},
   "outputs": [],
   "source": [
    "# Preprocessing function\n",
    "def preprocess(frame):\n",
    "    transform = T.Compose([T.ToTensor()])\n",
    "    return transform(frame).unsqueeze(0)\n",
    "\n",
    "# Detection function\n",
    "def detect(frame, model):\n",
    "    with torch.no_grad():\n",
    "        prediction = model(frame)\n",
    "    return prediction "
   ]
  },
  {
   "cell_type": "code",
   "execution_count": null,
   "metadata": {},
   "outputs": [],
   "source": [
    "with open(output_txt_path, \"w\") as f:\n",
    "    frame_id = 0\n",
    "\n",
    "    # Process video frames\n",
    "    while cap.isOpened():\n",
    "        ret, frame = cap.read()\n",
    "        if not ret:\n",
    "            break\n",
    "\n",
    "        frame_id += 1  # Increment frame count\n",
    "\n",
    "        # Convert frame to PIL Image\n",
    "        frame_pil = Image.fromarray(cv2.cvtColor(frame, cv2.COLOR_BGR2RGB))\n",
    "\n",
    "        # Preprocess and detect objects\n",
    "        frame_tensor = preprocess(frame_pil)\n",
    "        predictions = detect(frame_tensor, model)\n",
    "\n",
    "        # Extract detections\n",
    "        boxes = predictions[0]['boxes'].cpu().numpy()\n",
    "        scores = predictions[0]['scores'].cpu().numpy()\n",
    "        labels = predictions[0]['labels'].cpu().numpy()\n",
    "\n",
    "        # Filter detections (Only keep \"person\" class, label == 1)\n",
    "        confidence_threshold = 0.5\n",
    "        detections = []\n",
    "        for box, score, label in zip(boxes, scores, labels):\n",
    "            if score > confidence_threshold and label == 1:\n",
    "                x1, y1, x2, y2 = map(int, box)\n",
    "                detections.append([[x1, y1, x2, y2], score])  # Correct format for DeepSORT\n",
    "\n",
    "        # Update DeepSORT tracker\n",
    "        tracks = tracker.update_tracks(detections, frame=frame)\n",
    "\n",
    "        # Write bounding boxes to file\n",
    "        for track in tracks:\n",
    "            if not track.is_confirmed():\n",
    "                continue\n",
    "            track_id = track.track_id\n",
    "            bbox = track.to_tlbr()  # Convert to (x1, y1, x2, y2)\n",
    "\n",
    "            # Convert to (x, y, w, h)\n",
    "            x, y = int(bbox[0]), int(bbox[1])\n",
    "            w, h = int(bbox[2] - bbox[0]), int(bbox[3] - bbox[1])\n",
    "\n",
    "            # Write line in format: frame_id, track_id, x, y, w, h, 1,-1,-1,-1\n",
    "            f.write(f\"{frame_id},{track_id},{x},{y},{w},{h},1,-1,-1,-1\\n\")\n",
    "\n",
    "# Release resources\n",
    "cap.release()\n",
    "cv2.destroyAllWindows()\n",
    "\n",
    "print(f\"Bounding boxes saved to: {output_txt_path}\")"
   ]
  },
  {
   "cell_type": "code",
   "execution_count": null,
   "metadata": {},
   "outputs": [],
   "source": []
  }
 ],
 "metadata": {
  "kernelspec": {
   "display_name": "Python 3",
   "language": "python",
   "name": "python3"
  },
  "language_info": {
   "codemirror_mode": {
    "name": "ipython",
    "version": 3
   },
   "file_extension": ".py",
   "mimetype": "text/x-python",
   "name": "python",
   "nbconvert_exporter": "python",
   "pygments_lexer": "ipython3",
   "version": "3.12.7"
  }
 },
 "nbformat": 4,
 "nbformat_minor": 2
}
