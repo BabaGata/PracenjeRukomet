{
 "cells": [
  {
   "cell_type": "code",
   "execution_count": 1,
   "metadata": {},
   "outputs": [],
   "source": [
    "import cv2\n",
    "import torch\n",
    "import torchvision\n",
    "import numpy as np\n",
    "import os\n",
    "from PIL import Image\n",
    "import torchvision.transforms as T\n",
    "from norfair import Detection, Tracker"
   ]
  },
  {
   "cell_type": "code",
   "execution_count": 2,
   "metadata": {},
   "outputs": [],
   "source": [
    "# ========== SETTINGS ==========\n",
    "VIDEO_NAME = 'DSC_2411.MOV'\n",
    "video_path = fr\"tracking_rukomet\\{VIDEO_NAME}\"\n",
    "output_txt_path = fr\"tracking_rukomet\\predictions\\{VIDEO_NAME.replace('.MOV', '_norfair.txt')}\"\n",
    "\n",
    "# ========== LOAD MODEL ==========\n",
    "model = torchvision.models.detection.fasterrcnn_resnet50_fpn(weights=\"DEFAULT\")\n",
    "model.eval()\n",
    "\n",
    "# ========== INITIALIZE TRACKER ==========\n",
    "tracker = Tracker(distance_function=\"euclidean\", distance_threshold=30)\n",
    "\n",
    "# ========== VIDEO CAPTURE ==========\n",
    "cap = cv2.VideoCapture(video_path)\n",
    "os.makedirs(os.path.dirname(output_txt_path), exist_ok=True)"
   ]
  },
  {
   "cell_type": "code",
   "execution_count": 3,
   "metadata": {},
   "outputs": [],
   "source": [
    "# ========== PREPROCESS FUNCTION ==========\n",
    "def preprocess(frame):\n",
    "    transform = T.Compose([T.ToTensor()])\n",
    "    return transform(frame).unsqueeze(0)\n",
    "\n",
    "# ========== DETECTION FUNCTION ==========\n",
    "def detect(frame, model):\n",
    "    with torch.no_grad():\n",
    "        prediction = model(frame)\n",
    "    return prediction"
   ]
  },
  {
   "cell_type": "code",
   "execution_count": null,
   "metadata": {},
   "outputs": [],
   "source": [
    "# ========== MAIN LOOP ==========\n",
    "with open(output_txt_path, \"w\") as f:\n",
    "    frame_id = 0\n",
    "\n",
    "    while cap.isOpened():\n",
    "        ret, frame = cap.read()\n",
    "        if not ret:\n",
    "            break\n",
    "\n",
    "        frame_id += 1  # Increment frame count\n",
    "\n",
    "        # Convert frame to tensor\n",
    "        frame_pil = Image.fromarray(cv2.cvtColor(frame, cv2.COLOR_BGR2RGB))\n",
    "        frame_tensor = preprocess(frame_pil)\n",
    "\n",
    "        # Run Faster R-CNN\n",
    "        predictions = detect(frame_tensor, model)\n",
    "\n",
    "        # Extract detections (only class \"person\" - label == 1)\n",
    "        confidence_threshold = 0.5\n",
    "        detections = []\n",
    "        for box, score, label in zip(predictions[0]['boxes'], predictions[0]['scores'], predictions[0]['labels']):\n",
    "            if score > confidence_threshold and label == 1:\n",
    "                x1, y1, x2, y2 = map(int, box.cpu().numpy())\n",
    "                detections.append(Detection(points=np.array([[(x1 + x2) / 2, (y1 + y2) / 2]]), scores=np.array([score])))\n",
    "\n",
    "        # Update Norfair tracker\n",
    "        tracked_objects = tracker.update(detections=detections)\n",
    "\n",
    "        # Save tracking results\n",
    "        for obj in tracked_objects:\n",
    "            track_id = obj.id\n",
    "            x, y = int(obj.estimate[0][0]), int(obj.estimate[0][1])\n",
    "            w, h = int(box[2] - box[0]), int(box[3] - box[1])  # Bounding box width and height\n",
    "\n",
    "            f.write(f\"{frame_id},{track_id},{x},{y},{w},{h},1,-1,-1,-1\\n\")\n",
    "\n",
    "# Release resources\n",
    "cap.release()\n",
    "cv2.destroyAllWindows()\n",
    "\n",
    "print(f\"Bounding boxes saved to: {output_txt_path}\")"
   ]
  }
 ],
 "metadata": {
  "kernelspec": {
   "display_name": "Python 3",
   "language": "python",
   "name": "python3"
  },
  "language_info": {
   "codemirror_mode": {
    "name": "ipython",
    "version": 3
   },
   "file_extension": ".py",
   "mimetype": "text/x-python",
   "name": "python",
   "nbconvert_exporter": "python",
   "pygments_lexer": "ipython3",
   "version": "3.12.7"
  }
 },
 "nbformat": 4,
 "nbformat_minor": 2
}
